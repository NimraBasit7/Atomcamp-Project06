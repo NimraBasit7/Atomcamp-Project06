{
  "nbformat": 4,
  "nbformat_minor": 0,
  "metadata": {
    "colab": {
      "provenance": []
    },
    "kernelspec": {
      "name": "python3",
      "display_name": "Python 3"
    },
    "language_info": {
      "name": "python"
    }
  },
  "cells": [
    {
      "cell_type": "markdown",
      "source": [
        "# Project 07\n",
        "## Higgs Boson Signal Classification"
      ],
      "metadata": {
        "id": "UCG8T4MxEY5j"
      }
    },
    {
      "cell_type": "markdown",
      "source": [
        "### Mounting Drive & Fetching Data from Kaggle"
      ],
      "metadata": {
        "id": "DXjB81ctEghO"
      }
    },
    {
      "cell_type": "code",
      "execution_count": 2,
      "metadata": {
        "colab": {
          "base_uri": "https://localhost:8080/"
        },
        "id": "MtAXAIfGEGnT",
        "outputId": "6ebf513d-1540-4e65-da2c-df0ca4df5762"
      },
      "outputs": [
        {
          "output_type": "stream",
          "name": "stdout",
          "text": [
            "Mounted at /content/drive\n"
          ]
        }
      ],
      "source": [
        "from google.colab import drive\n",
        "drive.mount('/content/drive')"
      ]
    },
    {
      "cell_type": "code",
      "source": [
        "!pip install opendatasets"
      ],
      "metadata": {
        "colab": {
          "base_uri": "https://localhost:8080/"
        },
        "id": "SzbifXehFA9e",
        "outputId": "e0a0f855-7276-4251-dd94-6c220e3baeca"
      },
      "execution_count": 3,
      "outputs": [
        {
          "output_type": "stream",
          "name": "stdout",
          "text": [
            "Collecting opendatasets\n",
            "  Downloading opendatasets-0.1.22-py3-none-any.whl.metadata (9.2 kB)\n",
            "Requirement already satisfied: tqdm in /usr/local/lib/python3.11/dist-packages (from opendatasets) (4.67.1)\n",
            "Requirement already satisfied: kaggle in /usr/local/lib/python3.11/dist-packages (from opendatasets) (1.7.4.5)\n",
            "Requirement already satisfied: click in /usr/local/lib/python3.11/dist-packages (from opendatasets) (8.2.1)\n",
            "Requirement already satisfied: bleach in /usr/local/lib/python3.11/dist-packages (from kaggle->opendatasets) (6.2.0)\n",
            "Requirement already satisfied: certifi>=14.05.14 in /usr/local/lib/python3.11/dist-packages (from kaggle->opendatasets) (2025.6.15)\n",
            "Requirement already satisfied: charset-normalizer in /usr/local/lib/python3.11/dist-packages (from kaggle->opendatasets) (3.4.2)\n",
            "Requirement already satisfied: idna in /usr/local/lib/python3.11/dist-packages (from kaggle->opendatasets) (3.10)\n",
            "Requirement already satisfied: protobuf in /usr/local/lib/python3.11/dist-packages (from kaggle->opendatasets) (5.29.5)\n",
            "Requirement already satisfied: python-dateutil>=2.5.3 in /usr/local/lib/python3.11/dist-packages (from kaggle->opendatasets) (2.9.0.post0)\n",
            "Requirement already satisfied: python-slugify in /usr/local/lib/python3.11/dist-packages (from kaggle->opendatasets) (8.0.4)\n",
            "Requirement already satisfied: requests in /usr/local/lib/python3.11/dist-packages (from kaggle->opendatasets) (2.32.3)\n",
            "Requirement already satisfied: setuptools>=21.0.0 in /usr/local/lib/python3.11/dist-packages (from kaggle->opendatasets) (75.2.0)\n",
            "Requirement already satisfied: six>=1.10 in /usr/local/lib/python3.11/dist-packages (from kaggle->opendatasets) (1.17.0)\n",
            "Requirement already satisfied: text-unidecode in /usr/local/lib/python3.11/dist-packages (from kaggle->opendatasets) (1.3)\n",
            "Requirement already satisfied: urllib3>=1.15.1 in /usr/local/lib/python3.11/dist-packages (from kaggle->opendatasets) (2.4.0)\n",
            "Requirement already satisfied: webencodings in /usr/local/lib/python3.11/dist-packages (from kaggle->opendatasets) (0.5.1)\n",
            "Downloading opendatasets-0.1.22-py3-none-any.whl (15 kB)\n",
            "Installing collected packages: opendatasets\n",
            "Successfully installed opendatasets-0.1.22\n"
          ]
        }
      ]
    },
    {
      "cell_type": "code",
      "source": [
        "import opendatasets as od\n",
        "od.download('https://www.kaggle.com/competitions/higgs-boson/data')"
      ],
      "metadata": {
        "colab": {
          "base_uri": "https://localhost:8080/"
        },
        "id": "yrUKH2drEiiv",
        "outputId": "d35ac424-a6c3-40cb-a85a-41d69ea9011b"
      },
      "execution_count": 4,
      "outputs": [
        {
          "output_type": "stream",
          "name": "stdout",
          "text": [
            "Please provide your Kaggle credentials to download this dataset. Learn more: http://bit.ly/kaggle-creds\n",
            "Your Kaggle username: nimrabasit\n",
            "Your Kaggle Key: ··········\n",
            "Downloading higgs-boson.zip to ./higgs-boson\n"
          ]
        },
        {
          "output_type": "stream",
          "name": "stderr",
          "text": [
            "100%|██████████| 54.3M/54.3M [00:00<00:00, 1.15GB/s]"
          ]
        },
        {
          "output_type": "stream",
          "name": "stdout",
          "text": [
            "\n",
            "Extracting archive ./higgs-boson/higgs-boson.zip to ./higgs-boson\n"
          ]
        },
        {
          "output_type": "stream",
          "name": "stderr",
          "text": [
            "\n"
          ]
        }
      ]
    },
    {
      "cell_type": "code",
      "source": [
        "import pandas as pd\n",
        "import numpy as np\n",
        "from sklearn.model_selection import train_test_split\n",
        "from sklearn.preprocessing import StandardScaler\n",
        "import matplotlib.pyplot as plt\n",
        "import seaborn as sns\n",
        "\n",
        "import tensorflow as tf\n",
        "from tensorflow.keras.models import Sequential\n",
        "from tensorflow.keras.layers import Dense, Dropout, BatchNormalization\n",
        "from tensorflow.keras.callbacks import EarlyStopping, ReduceLROnPlateau\n",
        "from tensorflow.keras.optimizers import AdamW\n",
        "from tensorflow.keras.optimizers.schedules import CosineDecay\n",
        "from sklearn.feature_selection import SelectKBest, f_classif"
      ],
      "metadata": {
        "id": "l0HiJZ9TExny"
      },
      "execution_count": 5,
      "outputs": []
    },
    {
      "cell_type": "markdown",
      "source": [
        "### Step 1: Data Preparation"
      ],
      "metadata": {
        "id": "kuh4fPkTEzoc"
      }
    },
    {
      "cell_type": "markdown",
      "source": [
        "#### Load & Explore Data"
      ],
      "metadata": {
        "id": "uxAux3XaGdJ5"
      }
    },
    {
      "cell_type": "code",
      "source": [
        "# Load data\n",
        "df = pd.read_csv('/content/higgs-boson/training.zip')\n",
        "\n",
        "# Map label\n",
        "df['Label'] = df['Label'].map({'s': 1, 'b': 0})\n",
        "\n",
        "# Drop EventId and Weight for model training\n",
        "X = df.drop(columns=['EventId', 'Weight', 'Label'])\n",
        "y = df['Label']"
      ],
      "metadata": {
        "id": "mwKgiW3eE0So"
      },
      "execution_count": 6,
      "outputs": []
    },
    {
      "cell_type": "markdown",
      "source": [
        "####  Handle Missing / Zero-filled Values"
      ],
      "metadata": {
        "id": "3iwVSVsvF-ZM"
      }
    },
    {
      "cell_type": "code",
      "source": [
        "X.replace(-999.0, np.nan, inplace=True)\n",
        "X.fillna(X.mean(), inplace=True)  # Simple mean imputation"
      ],
      "metadata": {
        "id": "peZfey4-F9dZ"
      },
      "execution_count": 7,
      "outputs": []
    },
    {
      "cell_type": "markdown",
      "source": [
        "#### Normalize Features"
      ],
      "metadata": {
        "id": "dMqJB2CZGDgb"
      }
    },
    {
      "cell_type": "code",
      "source": [
        "scaler = StandardScaler()\n",
        "X_scaled = scaler.fit_transform(X)"
      ],
      "metadata": {
        "id": "vQZdZKtlGFI6"
      },
      "execution_count": 8,
      "outputs": []
    },
    {
      "cell_type": "markdown",
      "source": [
        "#### Split Data"
      ],
      "metadata": {
        "id": "rTE_4S6dGIR8"
      }
    },
    {
      "cell_type": "code",
      "source": [
        "X_train, X_temp, y_train, y_temp = train_test_split(X_scaled, y, test_size=0.3, stratify=y, random_state=42)\n",
        "X_val, X_test, y_val, y_test = train_test_split(X_temp, y_temp, test_size=0.5, stratify=y_temp, random_state=42)"
      ],
      "metadata": {
        "id": "8ElNl2LuGJWN"
      },
      "execution_count": 9,
      "outputs": []
    },
    {
      "cell_type": "markdown",
      "source": [
        "### Step 2: Model Building (Deep Learning)"
      ],
      "metadata": {
        "id": "TTGVOL74GUR4"
      }
    },
    {
      "cell_type": "code",
      "source": [
        "model = Sequential([\n",
        "    Dense(128, input_dim=X_train.shape[1], activation='relu'),\n",
        "    BatchNormalization(),\n",
        "    Dropout(0.3),\n",
        "\n",
        "    Dense(64, activation='relu'),\n",
        "    BatchNormalization(),\n",
        "    Dropout(0.3),\n",
        "\n",
        "    Dense(32, activation='relu'),\n",
        "    Dropout(0.2),\n",
        "\n",
        "    Dense(1, activation='sigmoid')  # Binary classification\n",
        "])\n",
        "\n",
        "model.compile(optimizer='adam',\n",
        "              loss='binary_crossentropy',\n",
        "              metrics=['accuracy'])\n",
        "\n",
        "# Callbacks\n",
        "early_stop = EarlyStopping(monitor='val_loss', patience=10, restore_best_weights=True)\n",
        "reduce_lr = ReduceLROnPlateau(monitor='val_loss', patience=5, factor=0.5)\n",
        "\n",
        "# Train\n",
        "history = model.fit(X_train, y_train,\n",
        "                    validation_data=(X_val, y_val),\n",
        "                    epochs=100, batch_size=256,\n",
        "                    callbacks=[early_stop, reduce_lr],\n",
        "                    verbose=1)\n"
      ],
      "metadata": {
        "colab": {
          "base_uri": "https://localhost:8080/"
        },
        "id": "aSrpQ4HVGhg1",
        "outputId": "85a6187f-1099-4f61-882f-0a8cbb15a705"
      },
      "execution_count": 10,
      "outputs": [
        {
          "output_type": "stream",
          "name": "stderr",
          "text": [
            "/usr/local/lib/python3.11/dist-packages/keras/src/layers/core/dense.py:87: UserWarning: Do not pass an `input_shape`/`input_dim` argument to a layer. When using Sequential models, prefer using an `Input(shape)` object as the first layer in the model instead.\n",
            "  super().__init__(activity_regularizer=activity_regularizer, **kwargs)\n"
          ]
        },
        {
          "output_type": "stream",
          "name": "stdout",
          "text": [
            "Epoch 1/100\n",
            "\u001b[1m684/684\u001b[0m \u001b[32m━━━━━━━━━━━━━━━━━━━━\u001b[0m\u001b[37m\u001b[0m \u001b[1m8s\u001b[0m 8ms/step - accuracy: 0.7400 - loss: 0.5236 - val_accuracy: 0.8264 - val_loss: 0.3905 - learning_rate: 0.0010\n",
            "Epoch 2/100\n",
            "\u001b[1m684/684\u001b[0m \u001b[32m━━━━━━━━━━━━━━━━━━━━\u001b[0m\u001b[37m\u001b[0m \u001b[1m4s\u001b[0m 5ms/step - accuracy: 0.8157 - loss: 0.4106 - val_accuracy: 0.8320 - val_loss: 0.3768 - learning_rate: 0.0010\n",
            "Epoch 3/100\n",
            "\u001b[1m684/684\u001b[0m \u001b[32m━━━━━━━━━━━━━━━━━━━━\u001b[0m\u001b[37m\u001b[0m \u001b[1m4s\u001b[0m 5ms/step - accuracy: 0.8230 - loss: 0.3950 - val_accuracy: 0.8339 - val_loss: 0.3720 - learning_rate: 0.0010\n",
            "Epoch 4/100\n",
            "\u001b[1m684/684\u001b[0m \u001b[32m━━━━━━━━━━━━━━━━━━━━\u001b[0m\u001b[37m\u001b[0m \u001b[1m5s\u001b[0m 7ms/step - accuracy: 0.8276 - loss: 0.3865 - val_accuracy: 0.8348 - val_loss: 0.3697 - learning_rate: 0.0010\n",
            "Epoch 5/100\n",
            "\u001b[1m684/684\u001b[0m \u001b[32m━━━━━━━━━━━━━━━━━━━━\u001b[0m\u001b[37m\u001b[0m \u001b[1m4s\u001b[0m 6ms/step - accuracy: 0.8295 - loss: 0.3850 - val_accuracy: 0.8372 - val_loss: 0.3667 - learning_rate: 0.0010\n",
            "Epoch 6/100\n",
            "\u001b[1m684/684\u001b[0m \u001b[32m━━━━━━━━━━━━━━━━━━━━\u001b[0m\u001b[37m\u001b[0m \u001b[1m5s\u001b[0m 5ms/step - accuracy: 0.8313 - loss: 0.3790 - val_accuracy: 0.8355 - val_loss: 0.3677 - learning_rate: 0.0010\n",
            "Epoch 7/100\n",
            "\u001b[1m684/684\u001b[0m \u001b[32m━━━━━━━━━━━━━━━━━━━━\u001b[0m\u001b[37m\u001b[0m \u001b[1m7s\u001b[0m 8ms/step - accuracy: 0.8321 - loss: 0.3788 - val_accuracy: 0.8389 - val_loss: 0.3646 - learning_rate: 0.0010\n",
            "Epoch 8/100\n",
            "\u001b[1m684/684\u001b[0m \u001b[32m━━━━━━━━━━━━━━━━━━━━\u001b[0m\u001b[37m\u001b[0m \u001b[1m8s\u001b[0m 5ms/step - accuracy: 0.8332 - loss: 0.3754 - val_accuracy: 0.8375 - val_loss: 0.3646 - learning_rate: 0.0010\n",
            "Epoch 9/100\n",
            "\u001b[1m684/684\u001b[0m \u001b[32m━━━━━━━━━━━━━━━━━━━━\u001b[0m\u001b[37m\u001b[0m \u001b[1m7s\u001b[0m 7ms/step - accuracy: 0.8326 - loss: 0.3761 - val_accuracy: 0.8397 - val_loss: 0.3618 - learning_rate: 0.0010\n",
            "Epoch 10/100\n",
            "\u001b[1m684/684\u001b[0m \u001b[32m━━━━━━━━━━━━━━━━━━━━\u001b[0m\u001b[37m\u001b[0m \u001b[1m6s\u001b[0m 8ms/step - accuracy: 0.8341 - loss: 0.3739 - val_accuracy: 0.8370 - val_loss: 0.3649 - learning_rate: 0.0010\n",
            "Epoch 11/100\n",
            "\u001b[1m684/684\u001b[0m \u001b[32m━━━━━━━━━━━━━━━━━━━━\u001b[0m\u001b[37m\u001b[0m \u001b[1m9s\u001b[0m 6ms/step - accuracy: 0.8349 - loss: 0.3731 - val_accuracy: 0.8388 - val_loss: 0.3624 - learning_rate: 0.0010\n",
            "Epoch 12/100\n",
            "\u001b[1m684/684\u001b[0m \u001b[32m━━━━━━━━━━━━━━━━━━━━\u001b[0m\u001b[37m\u001b[0m \u001b[1m6s\u001b[0m 9ms/step - accuracy: 0.8341 - loss: 0.3708 - val_accuracy: 0.8403 - val_loss: 0.3610 - learning_rate: 0.0010\n",
            "Epoch 13/100\n",
            "\u001b[1m684/684\u001b[0m \u001b[32m━━━━━━━━━━━━━━━━━━━━\u001b[0m\u001b[37m\u001b[0m \u001b[1m12s\u001b[0m 12ms/step - accuracy: 0.8346 - loss: 0.3719 - val_accuracy: 0.8402 - val_loss: 0.3606 - learning_rate: 0.0010\n",
            "Epoch 14/100\n",
            "\u001b[1m684/684\u001b[0m \u001b[32m━━━━━━━━━━━━━━━━━━━━\u001b[0m\u001b[37m\u001b[0m \u001b[1m9s\u001b[0m 14ms/step - accuracy: 0.8340 - loss: 0.3721 - val_accuracy: 0.8398 - val_loss: 0.3610 - learning_rate: 0.0010\n",
            "Epoch 15/100\n",
            "\u001b[1m684/684\u001b[0m \u001b[32m━━━━━━━━━━━━━━━━━━━━\u001b[0m\u001b[37m\u001b[0m \u001b[1m7s\u001b[0m 9ms/step - accuracy: 0.8371 - loss: 0.3682 - val_accuracy: 0.8395 - val_loss: 0.3606 - learning_rate: 0.0010\n",
            "Epoch 16/100\n",
            "\u001b[1m684/684\u001b[0m \u001b[32m━━━━━━━━━━━━━━━━━━━━\u001b[0m\u001b[37m\u001b[0m \u001b[1m5s\u001b[0m 7ms/step - accuracy: 0.8355 - loss: 0.3694 - val_accuracy: 0.8395 - val_loss: 0.3604 - learning_rate: 0.0010\n",
            "Epoch 17/100\n",
            "\u001b[1m684/684\u001b[0m \u001b[32m━━━━━━━━━━━━━━━━━━━━\u001b[0m\u001b[37m\u001b[0m \u001b[1m4s\u001b[0m 5ms/step - accuracy: 0.8365 - loss: 0.3690 - val_accuracy: 0.8403 - val_loss: 0.3598 - learning_rate: 0.0010\n",
            "Epoch 18/100\n",
            "\u001b[1m684/684\u001b[0m \u001b[32m━━━━━━━━━━━━━━━━━━━━\u001b[0m\u001b[37m\u001b[0m \u001b[1m4s\u001b[0m 5ms/step - accuracy: 0.8374 - loss: 0.3663 - val_accuracy: 0.8399 - val_loss: 0.3616 - learning_rate: 0.0010\n",
            "Epoch 19/100\n",
            "\u001b[1m684/684\u001b[0m \u001b[32m━━━━━━━━━━━━━━━━━━━━\u001b[0m\u001b[37m\u001b[0m \u001b[1m5s\u001b[0m 8ms/step - accuracy: 0.8377 - loss: 0.3671 - val_accuracy: 0.8400 - val_loss: 0.3603 - learning_rate: 0.0010\n",
            "Epoch 20/100\n",
            "\u001b[1m684/684\u001b[0m \u001b[32m━━━━━━━━━━━━━━━━━━━━\u001b[0m\u001b[37m\u001b[0m \u001b[1m4s\u001b[0m 6ms/step - accuracy: 0.8372 - loss: 0.3666 - val_accuracy: 0.8406 - val_loss: 0.3590 - learning_rate: 0.0010\n",
            "Epoch 21/100\n",
            "\u001b[1m684/684\u001b[0m \u001b[32m━━━━━━━━━━━━━━━━━━━━\u001b[0m\u001b[37m\u001b[0m \u001b[1m4s\u001b[0m 6ms/step - accuracy: 0.8381 - loss: 0.3666 - val_accuracy: 0.8403 - val_loss: 0.3598 - learning_rate: 0.0010\n",
            "Epoch 22/100\n",
            "\u001b[1m684/684\u001b[0m \u001b[32m━━━━━━━━━━━━━━━━━━━━\u001b[0m\u001b[37m\u001b[0m \u001b[1m8s\u001b[0m 11ms/step - accuracy: 0.8367 - loss: 0.3684 - val_accuracy: 0.8397 - val_loss: 0.3596 - learning_rate: 0.0010\n",
            "Epoch 23/100\n",
            "\u001b[1m684/684\u001b[0m \u001b[32m━━━━━━━━━━━━━━━━━━━━\u001b[0m\u001b[37m\u001b[0m \u001b[1m6s\u001b[0m 9ms/step - accuracy: 0.8374 - loss: 0.3658 - val_accuracy: 0.8405 - val_loss: 0.3590 - learning_rate: 0.0010\n",
            "Epoch 24/100\n",
            "\u001b[1m684/684\u001b[0m \u001b[32m━━━━━━━━━━━━━━━━━━━━\u001b[0m\u001b[37m\u001b[0m \u001b[1m9s\u001b[0m 14ms/step - accuracy: 0.8383 - loss: 0.3644 - val_accuracy: 0.8404 - val_loss: 0.3583 - learning_rate: 0.0010\n",
            "Epoch 25/100\n",
            "\u001b[1m684/684\u001b[0m \u001b[32m━━━━━━━━━━━━━━━━━━━━\u001b[0m\u001b[37m\u001b[0m \u001b[1m4s\u001b[0m 6ms/step - accuracy: 0.8384 - loss: 0.3656 - val_accuracy: 0.8410 - val_loss: 0.3602 - learning_rate: 0.0010\n",
            "Epoch 26/100\n",
            "\u001b[1m684/684\u001b[0m \u001b[32m━━━━━━━━━━━━━━━━━━━━\u001b[0m\u001b[37m\u001b[0m \u001b[1m4s\u001b[0m 6ms/step - accuracy: 0.8389 - loss: 0.3659 - val_accuracy: 0.8411 - val_loss: 0.3597 - learning_rate: 0.0010\n",
            "Epoch 27/100\n",
            "\u001b[1m684/684\u001b[0m \u001b[32m━━━━━━━━━━━━━━━━━━━━\u001b[0m\u001b[37m\u001b[0m \u001b[1m5s\u001b[0m 7ms/step - accuracy: 0.8391 - loss: 0.3623 - val_accuracy: 0.8409 - val_loss: 0.3580 - learning_rate: 0.0010\n",
            "Epoch 28/100\n",
            "\u001b[1m684/684\u001b[0m \u001b[32m━━━━━━━━━━━━━━━━━━━━\u001b[0m\u001b[37m\u001b[0m \u001b[1m4s\u001b[0m 6ms/step - accuracy: 0.8390 - loss: 0.3641 - val_accuracy: 0.8415 - val_loss: 0.3578 - learning_rate: 0.0010\n",
            "Epoch 29/100\n",
            "\u001b[1m684/684\u001b[0m \u001b[32m━━━━━━━━━━━━━━━━━━━━\u001b[0m\u001b[37m\u001b[0m \u001b[1m4s\u001b[0m 6ms/step - accuracy: 0.8400 - loss: 0.3635 - val_accuracy: 0.8401 - val_loss: 0.3583 - learning_rate: 0.0010\n",
            "Epoch 30/100\n",
            "\u001b[1m684/684\u001b[0m \u001b[32m━━━━━━━━━━━━━━━━━━━━\u001b[0m\u001b[37m\u001b[0m \u001b[1m5s\u001b[0m 7ms/step - accuracy: 0.8383 - loss: 0.3637 - val_accuracy: 0.8407 - val_loss: 0.3584 - learning_rate: 0.0010\n",
            "Epoch 31/100\n",
            "\u001b[1m684/684\u001b[0m \u001b[32m━━━━━━━━━━━━━━━━━━━━\u001b[0m\u001b[37m\u001b[0m \u001b[1m4s\u001b[0m 6ms/step - accuracy: 0.8399 - loss: 0.3632 - val_accuracy: 0.8406 - val_loss: 0.3580 - learning_rate: 0.0010\n",
            "Epoch 32/100\n",
            "\u001b[1m684/684\u001b[0m \u001b[32m━━━━━━━━━━━━━━━━━━━━\u001b[0m\u001b[37m\u001b[0m \u001b[1m5s\u001b[0m 7ms/step - accuracy: 0.8371 - loss: 0.3658 - val_accuracy: 0.8421 - val_loss: 0.3574 - learning_rate: 0.0010\n",
            "Epoch 33/100\n",
            "\u001b[1m684/684\u001b[0m \u001b[32m━━━━━━━━━━━━━━━━━━━━\u001b[0m\u001b[37m\u001b[0m \u001b[1m5s\u001b[0m 7ms/step - accuracy: 0.8395 - loss: 0.3625 - val_accuracy: 0.8411 - val_loss: 0.3588 - learning_rate: 0.0010\n",
            "Epoch 34/100\n",
            "\u001b[1m684/684\u001b[0m \u001b[32m━━━━━━━━━━━━━━━━━━━━\u001b[0m\u001b[37m\u001b[0m \u001b[1m4s\u001b[0m 6ms/step - accuracy: 0.8392 - loss: 0.3622 - val_accuracy: 0.8413 - val_loss: 0.3568 - learning_rate: 0.0010\n",
            "Epoch 35/100\n",
            "\u001b[1m684/684\u001b[0m \u001b[32m━━━━━━━━━━━━━━━━━━━━\u001b[0m\u001b[37m\u001b[0m \u001b[1m7s\u001b[0m 8ms/step - accuracy: 0.8380 - loss: 0.3640 - val_accuracy: 0.8419 - val_loss: 0.3580 - learning_rate: 0.0010\n",
            "Epoch 36/100\n",
            "\u001b[1m684/684\u001b[0m \u001b[32m━━━━━━━━━━━━━━━━━━━━\u001b[0m\u001b[37m\u001b[0m \u001b[1m4s\u001b[0m 6ms/step - accuracy: 0.8400 - loss: 0.3634 - val_accuracy: 0.8414 - val_loss: 0.3576 - learning_rate: 0.0010\n",
            "Epoch 37/100\n",
            "\u001b[1m684/684\u001b[0m \u001b[32m━━━━━━━━━━━━━━━━━━━━\u001b[0m\u001b[37m\u001b[0m \u001b[1m4s\u001b[0m 6ms/step - accuracy: 0.8379 - loss: 0.3634 - val_accuracy: 0.8427 - val_loss: 0.3575 - learning_rate: 0.0010\n",
            "Epoch 38/100\n",
            "\u001b[1m684/684\u001b[0m \u001b[32m━━━━━━━━━━━━━━━━━━━━\u001b[0m\u001b[37m\u001b[0m \u001b[1m7s\u001b[0m 9ms/step - accuracy: 0.8391 - loss: 0.3617 - val_accuracy: 0.8408 - val_loss: 0.3571 - learning_rate: 0.0010\n",
            "Epoch 39/100\n",
            "\u001b[1m684/684\u001b[0m \u001b[32m━━━━━━━━━━━━━━━━━━━━\u001b[0m\u001b[37m\u001b[0m \u001b[1m4s\u001b[0m 6ms/step - accuracy: 0.8383 - loss: 0.3648 - val_accuracy: 0.8409 - val_loss: 0.3573 - learning_rate: 0.0010\n",
            "Epoch 40/100\n",
            "\u001b[1m684/684\u001b[0m \u001b[32m━━━━━━━━━━━━━━━━━━━━\u001b[0m\u001b[37m\u001b[0m \u001b[1m5s\u001b[0m 6ms/step - accuracy: 0.8396 - loss: 0.3616 - val_accuracy: 0.8414 - val_loss: 0.3567 - learning_rate: 5.0000e-04\n",
            "Epoch 41/100\n",
            "\u001b[1m684/684\u001b[0m \u001b[32m━━━━━━━━━━━━━━━━━━━━\u001b[0m\u001b[37m\u001b[0m \u001b[1m6s\u001b[0m 7ms/step - accuracy: 0.8395 - loss: 0.3616 - val_accuracy: 0.8410 - val_loss: 0.3565 - learning_rate: 5.0000e-04\n",
            "Epoch 42/100\n",
            "\u001b[1m684/684\u001b[0m \u001b[32m━━━━━━━━━━━━━━━━━━━━\u001b[0m\u001b[37m\u001b[0m \u001b[1m4s\u001b[0m 6ms/step - accuracy: 0.8406 - loss: 0.3588 - val_accuracy: 0.8411 - val_loss: 0.3565 - learning_rate: 5.0000e-04\n",
            "Epoch 43/100\n",
            "\u001b[1m684/684\u001b[0m \u001b[32m━━━━━━━━━━━━━━━━━━━━\u001b[0m\u001b[37m\u001b[0m \u001b[1m4s\u001b[0m 7ms/step - accuracy: 0.8395 - loss: 0.3612 - val_accuracy: 0.8414 - val_loss: 0.3564 - learning_rate: 5.0000e-04\n",
            "Epoch 44/100\n",
            "\u001b[1m684/684\u001b[0m \u001b[32m━━━━━━━━━━━━━━━━━━━━\u001b[0m\u001b[37m\u001b[0m \u001b[1m5s\u001b[0m 8ms/step - accuracy: 0.8424 - loss: 0.3580 - val_accuracy: 0.8416 - val_loss: 0.3565 - learning_rate: 5.0000e-04\n",
            "Epoch 45/100\n",
            "\u001b[1m684/684\u001b[0m \u001b[32m━━━━━━━━━━━━━━━━━━━━\u001b[0m\u001b[37m\u001b[0m \u001b[1m10s\u001b[0m 8ms/step - accuracy: 0.8399 - loss: 0.3606 - val_accuracy: 0.8420 - val_loss: 0.3566 - learning_rate: 5.0000e-04\n",
            "Epoch 46/100\n",
            "\u001b[1m684/684\u001b[0m \u001b[32m━━━━━━━━━━━━━━━━━━━━\u001b[0m\u001b[37m\u001b[0m \u001b[1m9s\u001b[0m 6ms/step - accuracy: 0.8415 - loss: 0.3595 - val_accuracy: 0.8423 - val_loss: 0.3571 - learning_rate: 5.0000e-04\n",
            "Epoch 47/100\n",
            "\u001b[1m684/684\u001b[0m \u001b[32m━━━━━━━━━━━━━━━━━━━━\u001b[0m\u001b[37m\u001b[0m \u001b[1m7s\u001b[0m 8ms/step - accuracy: 0.8426 - loss: 0.3563 - val_accuracy: 0.8421 - val_loss: 0.3564 - learning_rate: 5.0000e-04\n",
            "Epoch 48/100\n",
            "\u001b[1m684/684\u001b[0m \u001b[32m━━━━━━━━━━━━━━━━━━━━\u001b[0m\u001b[37m\u001b[0m \u001b[1m8s\u001b[0m 6ms/step - accuracy: 0.8415 - loss: 0.3580 - val_accuracy: 0.8425 - val_loss: 0.3564 - learning_rate: 5.0000e-04\n",
            "Epoch 49/100\n",
            "\u001b[1m684/684\u001b[0m \u001b[32m━━━━━━━━━━━━━━━━━━━━\u001b[0m\u001b[37m\u001b[0m \u001b[1m6s\u001b[0m 9ms/step - accuracy: 0.8409 - loss: 0.3585 - val_accuracy: 0.8415 - val_loss: 0.3560 - learning_rate: 2.5000e-04\n",
            "Epoch 50/100\n",
            "\u001b[1m684/684\u001b[0m \u001b[32m━━━━━━━━━━━━━━━━━━━━\u001b[0m\u001b[37m\u001b[0m \u001b[1m8s\u001b[0m 6ms/step - accuracy: 0.8416 - loss: 0.3580 - val_accuracy: 0.8418 - val_loss: 0.3560 - learning_rate: 2.5000e-04\n",
            "Epoch 51/100\n",
            "\u001b[1m684/684\u001b[0m \u001b[32m━━━━━━━━━━━━━━━━━━━━\u001b[0m\u001b[37m\u001b[0m \u001b[1m5s\u001b[0m 8ms/step - accuracy: 0.8420 - loss: 0.3567 - val_accuracy: 0.8425 - val_loss: 0.3558 - learning_rate: 2.5000e-04\n",
            "Epoch 52/100\n",
            "\u001b[1m684/684\u001b[0m \u001b[32m━━━━━━━━━━━━━━━━━━━━\u001b[0m\u001b[37m\u001b[0m \u001b[1m4s\u001b[0m 5ms/step - accuracy: 0.8409 - loss: 0.3588 - val_accuracy: 0.8427 - val_loss: 0.3558 - learning_rate: 2.5000e-04\n",
            "Epoch 53/100\n",
            "\u001b[1m684/684\u001b[0m \u001b[32m━━━━━━━━━━━━━━━━━━━━\u001b[0m\u001b[37m\u001b[0m \u001b[1m5s\u001b[0m 6ms/step - accuracy: 0.8423 - loss: 0.3566 - val_accuracy: 0.8422 - val_loss: 0.3556 - learning_rate: 2.5000e-04\n",
            "Epoch 54/100\n",
            "\u001b[1m684/684\u001b[0m \u001b[32m━━━━━━━━━━━━━━━━━━━━\u001b[0m\u001b[37m\u001b[0m \u001b[1m5s\u001b[0m 8ms/step - accuracy: 0.8418 - loss: 0.3578 - val_accuracy: 0.8418 - val_loss: 0.3559 - learning_rate: 2.5000e-04\n",
            "Epoch 55/100\n",
            "\u001b[1m684/684\u001b[0m \u001b[32m━━━━━━━━━━━━━━━━━━━━\u001b[0m\u001b[37m\u001b[0m \u001b[1m4s\u001b[0m 6ms/step - accuracy: 0.8424 - loss: 0.3583 - val_accuracy: 0.8421 - val_loss: 0.3561 - learning_rate: 2.5000e-04\n",
            "Epoch 56/100\n",
            "\u001b[1m684/684\u001b[0m \u001b[32m━━━━━━━━━━━━━━━━━━━━\u001b[0m\u001b[37m\u001b[0m \u001b[1m4s\u001b[0m 5ms/step - accuracy: 0.8432 - loss: 0.3553 - val_accuracy: 0.8420 - val_loss: 0.3558 - learning_rate: 2.5000e-04\n",
            "Epoch 57/100\n",
            "\u001b[1m684/684\u001b[0m \u001b[32m━━━━━━━━━━━━━━━━━━━━\u001b[0m\u001b[37m\u001b[0m \u001b[1m5s\u001b[0m 8ms/step - accuracy: 0.8418 - loss: 0.3563 - val_accuracy: 0.8421 - val_loss: 0.3556 - learning_rate: 2.5000e-04\n",
            "Epoch 58/100\n",
            "\u001b[1m684/684\u001b[0m \u001b[32m━━━━━━━━━━━━━━━━━━━━\u001b[0m\u001b[37m\u001b[0m \u001b[1m9s\u001b[0m 5ms/step - accuracy: 0.8403 - loss: 0.3591 - val_accuracy: 0.8415 - val_loss: 0.3559 - learning_rate: 2.5000e-04\n",
            "Epoch 59/100\n",
            "\u001b[1m684/684\u001b[0m \u001b[32m━━━━━━━━━━━━━━━━━━━━\u001b[0m\u001b[37m\u001b[0m \u001b[1m6s\u001b[0m 7ms/step - accuracy: 0.8429 - loss: 0.3571 - val_accuracy: 0.8420 - val_loss: 0.3560 - learning_rate: 1.2500e-04\n",
            "Epoch 60/100\n",
            "\u001b[1m684/684\u001b[0m \u001b[32m━━━━━━━━━━━━━━━━━━━━\u001b[0m\u001b[37m\u001b[0m \u001b[1m4s\u001b[0m 5ms/step - accuracy: 0.8411 - loss: 0.3583 - val_accuracy: 0.8415 - val_loss: 0.3559 - learning_rate: 1.2500e-04\n",
            "Epoch 61/100\n",
            "\u001b[1m684/684\u001b[0m \u001b[32m━━━━━━━━━━━━━━━━━━━━\u001b[0m\u001b[37m\u001b[0m \u001b[1m6s\u001b[0m 6ms/step - accuracy: 0.8421 - loss: 0.3567 - val_accuracy: 0.8416 - val_loss: 0.3559 - learning_rate: 1.2500e-04\n",
            "Epoch 62/100\n",
            "\u001b[1m684/684\u001b[0m \u001b[32m━━━━━━━━━━━━━━━━━━━━\u001b[0m\u001b[37m\u001b[0m \u001b[1m6s\u001b[0m 7ms/step - accuracy: 0.8428 - loss: 0.3549 - val_accuracy: 0.8416 - val_loss: 0.3558 - learning_rate: 1.2500e-04\n",
            "Epoch 63/100\n",
            "\u001b[1m684/684\u001b[0m \u001b[32m━━━━━━━━━━━━━━━━━━━━\u001b[0m\u001b[37m\u001b[0m \u001b[1m4s\u001b[0m 5ms/step - accuracy: 0.8413 - loss: 0.3572 - val_accuracy: 0.8417 - val_loss: 0.3558 - learning_rate: 1.2500e-04\n",
            "Epoch 64/100\n",
            "\u001b[1m684/684\u001b[0m \u001b[32m━━━━━━━━━━━━━━━━━━━━\u001b[0m\u001b[37m\u001b[0m \u001b[1m7s\u001b[0m 8ms/step - accuracy: 0.8432 - loss: 0.3556 - val_accuracy: 0.8421 - val_loss: 0.3557 - learning_rate: 6.2500e-05\n",
            "Epoch 65/100\n",
            "\u001b[1m684/684\u001b[0m \u001b[32m━━━━━━━━━━━━━━━━━━━━\u001b[0m\u001b[37m\u001b[0m \u001b[1m9s\u001b[0m 6ms/step - accuracy: 0.8415 - loss: 0.3579 - val_accuracy: 0.8420 - val_loss: 0.3558 - learning_rate: 6.2500e-05\n",
            "Epoch 66/100\n",
            "\u001b[1m684/684\u001b[0m \u001b[32m━━━━━━━━━━━━━━━━━━━━\u001b[0m\u001b[37m\u001b[0m \u001b[1m5s\u001b[0m 8ms/step - accuracy: 0.8425 - loss: 0.3550 - val_accuracy: 0.8417 - val_loss: 0.3557 - learning_rate: 6.2500e-05\n",
            "Epoch 67/100\n",
            "\u001b[1m684/684\u001b[0m \u001b[32m━━━━━━━━━━━━━━━━━━━━\u001b[0m\u001b[37m\u001b[0m \u001b[1m4s\u001b[0m 6ms/step - accuracy: 0.8402 - loss: 0.3588 - val_accuracy: 0.8414 - val_loss: 0.3557 - learning_rate: 6.2500e-05\n"
          ]
        }
      ]
    },
    {
      "cell_type": "markdown",
      "source": [
        "The model exhibited rapid learning in the initial epochs, with training accuracy climbing from 74% to 83% within the first 5 epochs and validation accuracy reaching 83.7%. This suggests effective convergence early on. Between epochs 6 and 20, both training and validation performance gradually improved, with validation accuracy rising to ~84.1% and validation loss steadily decreasing—indicating the model was learning relevant patterns without signs of overfitting"
      ],
      "metadata": {
        "id": "xjm1UKFVGexP"
      }
    },
    {
      "cell_type": "markdown",
      "source": [
        "From epoch 21 onwards, improvements became marginal and validation metrics began to plateau around 84.2%. While ReduceLROnPlateau adjusted the learning rate at epoch 40, further gains were modest. Nonetheless, the model maintained stable generalization, with validation loss fluctuating narrowly around 0.355–0.358. By epoch 67, training had clearly saturated, and further training offered diminishing returns."
      ],
      "metadata": {
        "id": "9SOrWjAIJJq0"
      }
    },
    {
      "cell_type": "markdown",
      "source": [
        "Overall, the architecture—with Dropout and BatchNormalization—ensured good generalization and stability. However, the model appears to have reached a capacity ceiling, suggesting that additional feature engineering, deeper architectures, or advanced learning rate strategies (e.g., warmup or cosine decay) might be needed to push performance beyond this plateau.\n",
        "\n",
        "\n",
        "\n"
      ],
      "metadata": {
        "id": "S2XMcyiHJMmF"
      }
    },
    {
      "cell_type": "markdown",
      "source": [
        "### Step 3: Model Evaluation"
      ],
      "metadata": {
        "id": "P5_gXK9EGx2N"
      }
    },
    {
      "cell_type": "markdown",
      "source": [
        "#### Training Curves"
      ],
      "metadata": {
        "id": "v8o_u3nBG0Ec"
      }
    },
    {
      "cell_type": "code",
      "source": [
        "plt.plot(history.history['accuracy'], label='Train Accuracy')\n",
        "plt.plot(history.history['val_accuracy'], label='Val Accuracy')\n",
        "plt.title('Accuracy')\n",
        "plt.legend()\n",
        "plt.show()"
      ],
      "metadata": {
        "colab": {
          "base_uri": "https://localhost:8080/",
          "height": 452
        },
        "id": "BEX_Va85G2_i",
        "outputId": "24a5b2d2-7afb-41a4-deef-6a06cff184c5"
      },
      "execution_count": 11,
      "outputs": [
        {
          "output_type": "display_data",
          "data": {
            "text/plain": [
              "<Figure size 640x480 with 1 Axes>"
            ],
            "image/png": "[encoded data removed]"
          },
          "metadata": {}
        }
      ]
    },
    {
      "cell_type": "markdown",
      "source": [
        "#### Performance Metrics"
      ],
      "metadata": {
        "id": "_D5lOlyiG5vh"
      }
    },
    {
      "cell_type": "code",
      "source": [
        "from sklearn.metrics import classification_report, confusion_matrix, roc_auc_score, roc_curve\n",
        "\n",
        "# Predict\n",
        "y_pred_prob = model.predict(X_test).ravel()\n",
        "y_pred = (y_pred_prob > 0.5).astype(int)\n",
        "\n",
        "print(classification_report(y_test, y_pred))\n",
        "print(\"ROC-AUC:\", roc_auc_score(y_test, y_pred_prob))\n",
        "\n",
        "# Confusion Matrix\n",
        "cm = confusion_matrix(y_test, y_pred)\n",
        "sns.heatmap(cm, annot=True, fmt=\"d\", cmap='Blues')\n",
        "plt.title(\"Confusion Matrix\")\n",
        "plt.show()\n",
        "\n",
        "# ROC Curve\n",
        "fpr, tpr, _ = roc_curve(y_test, y_pred_prob)\n",
        "plt.plot(fpr, tpr, label=\"ROC Curve\")\n",
        "plt.plot([0, 1], [0, 1], linestyle='--')\n",
        "plt.xlabel(\"False Positive Rate\")\n",
        "plt.ylabel(\"True Positive Rate\")\n",
        "plt.legend()\n",
        "plt.title(\"ROC Curve\")\n",
        "plt.show()"
      ],
      "metadata": {
        "colab": {
          "base_uri": "https://localhost:8080/",
          "height": 1000
        },
        "id": "jjdDLNsaG5FW",
        "outputId": "d4315253-c45a-424d-fc14-e7e4474175f6"
      },
      "execution_count": 12,
      "outputs": [
        {
          "output_type": "stream",
          "name": "stdout",
          "text": [
            "\u001b[1m1172/1172\u001b[0m \u001b[32m━━━━━━━━━━━━━━━━━━━━\u001b[0m\u001b[37m\u001b[0m \u001b[1m2s\u001b[0m 1ms/step\n",
            "              precision    recall  f1-score   support\n",
            "\n",
            "           0       0.87      0.90      0.88     24650\n",
            "           1       0.80      0.73      0.76     12850\n",
            "\n",
            "    accuracy                           0.84     37500\n",
            "   macro avg       0.83      0.82      0.82     37500\n",
            "weighted avg       0.84      0.84      0.84     37500\n",
            "\n",
            "ROC-AUC: 0.9145077513200369\n"
          ]
        },
        {
          "output_type": "display_data",
          "data": {
            "text/plain": [
              "<Figure size 640x480 with 2 Axes>"
            ],
            "image/png": "[encoded data removed]"
          },
          "metadata": {}
        },
        {
          "output_type": "display_data",
          "data": {
            "text/plain": [
              "<Figure size 640x480 with 1 Axes>"
            ],
            "image/png": "[encoded data removed]"
          },
          "metadata": {}
        }
      ]
    },
    {
      "cell_type": "markdown",
      "source": [
        "### Step 4: Tree-Based Baseline (XGBoost)"
      ],
      "metadata": {
        "id": "aENcqW25G9xU"
      }
    },
    {
      "cell_type": "code",
      "source": [
        "import xgboost as xgb\n",
        "from sklearn.metrics import accuracy_score\n",
        "\n",
        "xgb_model = xgb.XGBClassifier(use_label_encoder=False, eval_metric='logloss')\n",
        "xgb_model.fit(X_train, y_train)\n",
        "\n",
        "xgb_pred = xgb_model.predict(X_test)\n",
        "print(classification_report(y_test, xgb_pred))\n",
        "print(\"ROC-AUC:\", roc_auc_score(y_test, xgb_model.predict_proba(X_test)[:, 1]))"
      ],
      "metadata": {
        "colab": {
          "base_uri": "https://localhost:8080/"
        },
        "id": "gV2xf1H9G_pU",
        "outputId": "55e426e7-5d3b-4900-f472-7d13f25d7f9a"
      },
      "execution_count": 13,
      "outputs": [
        {
          "output_type": "stream",
          "name": "stderr",
          "text": [
            "/usr/local/lib/python3.11/dist-packages/xgboost/core.py:158: UserWarning: [11:38:30] WARNING: /workspace/src/learner.cc:740: \n",
            "Parameters: { \"use_label_encoder\" } are not used.\n",
            "\n",
            "  warnings.warn(smsg, UserWarning)\n"
          ]
        },
        {
          "output_type": "stream",
          "name": "stdout",
          "text": [
            "              precision    recall  f1-score   support\n",
            "\n",
            "           0       0.87      0.90      0.88     24650\n",
            "           1       0.79      0.74      0.76     12850\n",
            "\n",
            "    accuracy                           0.84     37500\n",
            "   macro avg       0.83      0.82      0.82     37500\n",
            "weighted avg       0.84      0.84      0.84     37500\n",
            "\n",
            "ROC-AUC: 0.9099921389728574\n"
          ]
        }
      ]
    },
    {
      "cell_type": "markdown",
      "source": [
        "### Step 5: Reflection"
      ],
      "metadata": {
        "id": "Zx3iqkhjHBiP"
      }
    },
    {
      "cell_type": "markdown",
      "source": [
        "**How did model depth and activation affect performance?**\n",
        "\n",
        "Deeper models (3 hidden layers) with ReLU activation improved performance by capturing non-linear patterns, but also increased the risk of overfitting. ReLU helped maintain efficient gradient flow during training."
      ],
      "metadata": {
        "id": "lY2eQv2_gYtY"
      }
    },
    {
      "cell_type": "markdown",
      "source": [
        "**What helped mitigate overfitting?**\n",
        "\n",
        "Regularization techniques like Dropout, BatchNormalization, and EarlyStopping were effective in reducing overfitting. Additionally, ReduceLROnPlateau helped by lowering the learning rate once validation loss plateaue"
      ],
      "metadata": {
        "id": "-QiUysr0ge5y"
      }
    },
    {
      "cell_type": "markdown",
      "source": [
        "**How did the learning rate and optimizer affect convergence?**\n",
        "\n",
        "Using the Adam optimizer with an initial learning rate of 0.001 led to fast convergence in early epochs. Gradual reduction of the learning rate using ReduceLROnPlateau enabled finer weight updates and stable convergence."
      ],
      "metadata": {
        "id": "bcqGj5uZgh-c"
      }
    },
    {
      "cell_type": "markdown",
      "source": [
        "**What would you improve with more time or compute?**\n",
        "\n",
        "With more resources, I would:\n",
        "\n",
        "- Tune hyperparameters (batch size, dropout rates, learning rate schedules)\n",
        "\n",
        "- Try ensemble methods (e.g., stacking MLP and XGBoost)\n",
        "\n",
        "- Use SHAP or feature importance plots to analyze model decisions\n",
        "\n",
        "- Train deeper models with more data to potentially improve generalization"
      ],
      "metadata": {
        "id": "qRHmmhJGgm6S"
      }
    },
    {
      "cell_type": "markdown",
      "source": [
        "---"
      ],
      "metadata": {
        "id": "cYW2EkvuguY4"
      }
    }
  ]
}